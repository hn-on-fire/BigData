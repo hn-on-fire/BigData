{
 "cells": [
  {
   "cell_type": "code",
   "execution_count": 53,
   "metadata": {},
   "outputs": [],
   "source": [
    "import pyspark\n",
    "from pyspark.sql import SparkSession, functions as F\n"
   ]
  },
  {
   "cell_type": "code",
   "execution_count": 54,
   "metadata": {},
   "outputs": [
    {
     "name": "stdout",
     "output_type": "stream",
     "text": [
      "+---+------+\n",
      "|Age|  Name|\n",
      "+---+------+\n",
      "| 35|   Bob|\n",
      "| 72|Martha|\n",
      "+---+------+\n",
      "\n",
      "+---+------+-------+\n",
      "|Age|  Name|Country|\n",
      "+---+------+-------+\n",
      "|  2| Alice|    USA|\n",
      "| 35|   Bob|    USA|\n",
      "| 72|Martha|    USA|\n",
      "+---+------+-------+\n",
      "\n"
     ]
    }
   ],
   "source": [
    "spark = SparkSession.builder.config('spark.driver.memory', '4g').appName('square_integers').getOrCreate()\n",
    "df = spark.createDataFrame([(2,\"Alice\"), (35, \"Bob\"), (72, \"Martha\")], schema=[\"Age\", \"Name\"])\n",
    "df.filter(df.Age>18).show()\n",
    "df.withColumn(\"Country\", F.lit(\"USA\")).show()"
   ]
  },
  {
   "cell_type": "code",
   "execution_count": 55,
   "metadata": {},
   "outputs": [
    {
     "name": "stdout",
     "output_type": "stream",
     "text": [
      "+-----------+\n",
      "|count(Name)|\n",
      "+-----------+\n",
      "|          3|\n",
      "+-----------+\n",
      "\n"
     ]
    }
   ],
   "source": [
    "df.select(F.count(df.Name)).show()"
   ]
  },
  {
   "cell_type": "code",
   "execution_count": 56,
   "metadata": {},
   "outputs": [
    {
     "name": "stdout",
     "output_type": "stream",
     "text": [
      "+------------------+\n",
      "|          avg(Age)|\n",
      "+------------------+\n",
      "|36.333333333333336|\n",
      "+------------------+\n",
      "\n",
      "+--------+\n",
      "|sum(Age)|\n",
      "+--------+\n",
      "|     109|\n",
      "+--------+\n",
      "\n"
     ]
    }
   ],
   "source": [
    "df.select(F.avg(df.Age)).show()\n",
    "df.select(F.sum(df.Age)).show()"
   ]
  },
  {
   "cell_type": "code",
   "execution_count": 59,
   "metadata": {},
   "outputs": [],
   "source": [
    "df.write.csv('df.csv')"
   ]
  },
  {
   "cell_type": "code",
   "execution_count": 58,
   "metadata": {},
   "outputs": [
    {
     "name": "stdout",
     "output_type": "stream",
     "text": [
      "{'': 81, 'the': 59, 'was': 41, 'to': 39, 'and': 33, 'he': 28, 'that': 28, 'a': 28, 'of': 20, 'her': 20}\n"
     ]
    }
   ],
   "source": [
    "split_on_spaces = F.split('value', ' ')\n",
    "df = (\n",
    "    spark.read.option(\"recursiveFileLookup\",\"true\").text('TextDocs/')\n",
    "    .withColumn('value', F.explode(split_on_spaces))\n",
    "    .groupBy('value').count()\n",
    "    .orderBy(F.desc('count'))\n",
    ")\n",
    "top_val_dict = {r['value']:r['count'] for r in df.head(10)}\n",
    "\n",
    "print(top_val_dict)"
   ]
  },
  {
   "cell_type": "code",
   "execution_count": null,
   "metadata": {},
   "outputs": [],
   "source": []
  }
 ],
 "metadata": {
  "kernelspec": {
   "display_name": "Python 3",
   "language": "python",
   "name": "python3"
  },
  "language_info": {
   "codemirror_mode": {
    "name": "ipython",
    "version": 3
   },
   "file_extension": ".py",
   "mimetype": "text/x-python",
   "name": "python",
   "nbconvert_exporter": "python",
   "pygments_lexer": "ipython3",
   "version": "3.7.0"
  }
 },
 "nbformat": 4,
 "nbformat_minor": 2
}
