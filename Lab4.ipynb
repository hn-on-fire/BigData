{
 "cells": [
  {
   "cell_type": "code",
   "execution_count": 10,
   "metadata": {},
   "outputs": [],
   "source": [
    "from pyspark.sql import SparkSession \n",
    "from pyspark.ml.evaluation import RegressionEvaluator \n",
    "from pyspark.ml.recommendation import ALS \n",
    "spark = SparkSession.builder.appName('Recommender').getOrCreate() "
   ]
  },
  {
   "cell_type": "code",
   "execution_count": 11,
   "metadata": {},
   "outputs": [],
   "source": [
    "movies_df = spark.read.json('movies.json') "
   ]
  },
  {
   "cell_type": "code",
   "execution_count": 12,
   "metadata": {},
   "outputs": [
    {
     "name": "stdout",
     "output_type": "stream",
     "text": [
      "+-----------+----------+--------------------+--------------------+-----+--------------------+----------+--------------+\n",
      "|helpfulness|product_id|        profile_name|              review|score|             summary|      time|       user_id|\n",
      "+-----------+----------+--------------------+--------------------+-----+--------------------+----------+--------------+\n",
      "|        7/7|B003AI2VGA|Brian E. Erland \"...|Synopsis: On the ...|  3.0|\"There Is So Much...|1182729600|A141HP4LYPWMSR|\n",
      "|        4/4|B003AI2VGA|          Grady Harp|THE VIRGIN OF JUA...|  3.0|Worthwhile and Im...|1181952000|A328S9RN3U5M68|\n",
      "|       8/10|B003AI2VGA|Chrissy K. McVay ...|The scenes in thi...|  5.0|This movie needed...|1164844800|A1I7QGUDP043DG|\n",
      "|        1/1|B003AI2VGA|        golgotha.gov|THE VIRGIN OF JUA...|  3.0|distantly based o...|1197158400|A1M5405JH9THP9|\n",
      "|        1/1|B003AI2VGA|KerrLines \"&#34;M...|Informationally, ...|  3.0|\"What's going on ...|1188345600| ATXL536YX71TR|\n",
      "|        0/0|B003AI2VGA|abra \"a devoted r...|The murders in Ju...|  2.0|Pretty pointless ...|1229040000|A3QYDL5CDNYN66|\n",
      "|       3/11|B003AI2VGA| Charles R. Williams|Mexican men are m...|  1.0|This is junk, sta...|1164153600| AQJVNDW6YZFQS|\n",
      "|      64/65|B00006HAXW|   Anthony Accordino|Over the past few...|  5.0|A  Rock N Roll Hi...|1060473600| AD4CDZK7D31XP|\n",
      "|      26/26|B00006HAXW|    Joseph P. Aiello|I recvd this vide...|  5.0|A  MUST-HAVE  vid...|1041292800|A3Q4S5DFVPB70D|\n",
      "|      24/24|B00006HAXW|     \"bruce_from_la\"|Wow! When I saw t...|  5.0|If You Like DooWo...|1061164800|A2P7UB02HAVEPB|\n",
      "|      22/23|B00006HAXW|    Henrique Peirano|I have the Doo Wo...|  4.0|    I expected more.|1039564800|A2TX99AZKDK0V7|\n",
      "|      14/14|B00006HAXW|      Richard Albero|Having worked in ...|  5.0|Professional Exce...|1045526400| AFC8IKR407HSK|\n",
      "|        9/9|B00006HAXW|                 Les|The people who ha...|  5.0|Marvelous, just M...|1062979200|A1FRPGQYQTAOR1|\n",
      "|        9/9|B00006HAXW|     Joseph M. Kotow|I have all of the...|  5.0|Pittsburgh - Home...|1042502400|A1RSDE90N6RSZF|\n",
      "|        7/7|B00006HAXW|      \"fellafromnyc\"|The performance o...|  4.0|They sang in the ...|1049846400|A1OUBOGB5970AO|\n",
      "|        7/7|B00006HAXW|           S. Dorman|Get it, also get ...|  5.0|DOO WOP RECORDED ...|1047945600|A3NPHQVIY59Y0Y|\n",
      "|        7/7|B00006HAXW|                 RFP|Excellent, excell...|  5.0|ROCK RYTHM AND DO...|1038787200| AFKMBAY28XO8A|\n",
      "|        4/4|B00006HAXW|           C. Thomas|This video is awe...|  5.0|Unbelievable Best...|1177804800| A66KMXH9V7OGU|\n",
      "|        3/3|B00006HAXW|   Michael A. Martin|As I stated in my...|  5.0|Another outstandi...|1200096000| AFJ27ZV9183B8|\n",
      "|        5/6|B00006HAXW|C. W. Emblom \"Bil...|I own both the VH...|  5.0|Outstanding Wheth...|1082592000| AXMKAXC0TR9AW|\n",
      "+-----------+----------+--------------------+--------------------+-----+--------------------+----------+--------------+\n",
      "only showing top 20 rows\n",
      "\n"
     ]
    }
   ],
   "source": [
    "movies_df.show()"
   ]
  },
  {
   "cell_type": "code",
   "execution_count": 13,
   "metadata": {},
   "outputs": [
    {
     "data": {
      "text/plain": [
       "StructType([StructField('helpfulness', StringType(), True), StructField('product_id', StringType(), True), StructField('profile_name', StringType(), True), StructField('review', StringType(), True), StructField('score', DoubleType(), True), StructField('summary', StringType(), True), StructField('time', LongType(), True), StructField('user_id', StringType(), True)])"
      ]
     },
     "execution_count": 13,
     "metadata": {},
     "output_type": "execute_result"
    }
   ],
   "source": [
    "movies_df.schema"
   ]
  },
  {
   "cell_type": "code",
   "execution_count": 14,
   "metadata": {},
   "outputs": [],
   "source": [
    "from pyspark.ml.feature import StringIndexer\n",
    "indexer1 = StringIndexer(inputCol=\"user_id\", outputCol=\"users\")\n",
    "indexerModel1 = indexer1.fit(movies_df)\n",
    "movies_df = indexerModel1.transform(movies_df)\n",
    "indexer2 = StringIndexer(inputCol=\"product_id\", outputCol=\"products\")\n",
    "indexerModel2 = indexer2.fit(movies_df)\n",
    "movies_df = indexerModel2.transform(movies_df)"
   ]
  },
  {
   "cell_type": "code",
   "execution_count": 18,
   "metadata": {},
   "outputs": [],
   "source": [
    "train_data, test_data = movies_df.randomSplit([0.8, 0.2])"
   ]
  },
  {
   "cell_type": "code",
   "execution_count": 19,
   "metadata": {},
   "outputs": [],
   "source": [
    "als = ALS(maxIter=5, \n",
    "          regParam=0.01, \n",
    "          userCol=\"users\", \n",
    "          itemCol=\"products\", \n",
    "          ratingCol=\"score\",\n",
    "          coldStartStrategy=\"drop\") \n",
    "  \n",
    "model = als.fit(train_data)"
   ]
  },
  {
   "cell_type": "code",
   "execution_count": 21,
   "metadata": {},
   "outputs": [],
   "source": [
    "predictions = model.transform(test_data) "
   ]
  },
  {
   "cell_type": "code",
   "execution_count": 22,
   "metadata": {},
   "outputs": [
    {
     "name": "stdout",
     "output_type": "stream",
     "text": [
      "+-----------+----------+--------------------+--------------------+-----+--------------------+----------+--------------+------+--------+-----------+\n",
      "|helpfulness|product_id|        profile_name|              review|score|             summary|      time|       user_id| users|products| prediction|\n",
      "+-----------+----------+--------------------+--------------------+-----+--------------------+----------+--------------+------+--------+-----------+\n",
      "|        0/0|B000UGBOT0|              T-Rexx|If there were thr...|  5.0|How to learn abou...|1090454400|A11BZ39QSLERNI|1959.0|    78.0|  0.1397437|\n",
      "|        7/7|B0001G6PZC|      David Anderson|\"The Last Samarai...|  5.0|Tom Cruise Triump...|1080086400|A1YQ6QB2127AJ4| 471.0|     7.0|  2.4011946|\n",
      "|        1/1|B002OHDRF2|Peter J. Miller \"...|I did not really ...|  2.0|I hope this is no...|1320624000| AU25GMX57XBVO| 243.0|    21.0|  2.0860286|\n",
      "|        1/4|B002OHDRF2|Romeraux Allen \"T...|Im am a huge Term...|  5.0|The Best Terminat...|1259539200|A294UQY2B07SHD|1395.0|    21.0|  4.8343062|\n",
      "|        3/4|B0001G6PZC|           Dimitrios|Good costumes, te...|  3.0|Full of action bu...|1100563200|A2EIEXQVCPXZNG| 897.0|     7.0|-0.16520141|\n",
      "|        0/2|B0002V7TJM|Boop \"caramelchoc...|Sugar Valentine w...|  4.0|Pimpin Ain't Easy...|1116115200|A1YR4OM2QLQ1LY|1339.0|   680.0| -1.2427621|\n",
      "|        1/2|B002OHDRF2|William Huffman F...|I saw this movie ...|  4.0|Glad but yet also...|1255824000|A2C7NDSMB2AH05|3352.0|    21.0|  3.9932966|\n",
      "|        4/7|B002OHDRF2|James Beswick \"In...|Well, there's not...|  1.0|McG destroys a pe...|1334448000|A1V3TRGWOMA8LC|2833.0|    21.0| 0.99832416|\n",
      "|      17/28|B002OHDRF2|   Charles A. Briggs|I was a big fan o...|  1.0|No story means do...|1261008000|A1VW4ZBXKEYTZ9|2848.0|    21.0| 0.99832416|\n",
      "|        2/3|6304286961|               Joker|It's hard to beli...|  4.0|          Wild Child|1305504000|A22BPC7LRSGSYQ| 322.0|    85.0|  2.4785662|\n",
      "|        2/3|B002OHDRF2|     Edward  Codilla|I loved this movi...|  4.0|Terminator:Salvat...|1259798400|A1TTN5AGHRRF2M| 613.0|    21.0|  3.8453598|\n",
      "|        1/1|6304286961|          Jesse Ross|I first saw this ...|  4.0|Despite A Few Ina...|1246924800|A3DWLI9VIYXI16|4452.0|    85.0| -1.2091498|\n",
      "|        1/2|B002OHDRF2|           Clark Fam|This movie never ...|  5.0|This is a GREAT a...|1259798400|A2MHE59W0CVSWO|3661.0|    21.0|  4.9916205|\n",
      "|      22/25|B0006FFRD4|                 NiQ|I watched the who...|  4.0|great series-acti...|1111017600|A31GOMP97XPJMV|4088.0|  1116.0|  0.7773158|\n",
      "|        0/0|B0001G6PZC|     kevh015 \"Kevin\"|What a great movi...|  5.0|             Awesome|1110758400|A1PILMASEE483C|2683.0|     7.0|-0.46758232|\n",
      "|        1/1|B0012EM5GK|             Matthew|This dvd has some...|  5.0|       Turning Point|1206921600|A35531WG0CE5UE|4208.0|   303.0|  4.9443903|\n",
      "|        2/2|B000056PNV|     Mick McAllister|Chushingura is no...|  4.0|Quintessentially ...|1334275200|A1DPCXO7RDZM0S|2313.0|   435.0|  0.2299585|\n",
      "|        0/0|6303257933|           Raiden777|Theres been a lot...|  4.0|One of the few ne...|1222128000|A2C3P362BXV4XM|1415.0|    83.0| -1.2087646|\n",
      "|        0/0|0800103688|         David Bower|This is a fun mov...|  4.0|A Pleasantly Dive...|1308009600| AHIK7BUXFRMT8| 300.0|   163.0|   4.547388|\n",
      "|        1/4|B0001G6PZC|          Fruit Loop|Drunken, war-wear...|  5.0|Tom the Swashbuck...|1094083200|A3GA09FYFKL4EY| 412.0|     7.0|  3.0878863|\n",
      "+-----------+----------+--------------------+--------------------+-----+--------------------+----------+--------------+------+--------+-----------+\n",
      "only showing top 20 rows\n",
      "\n"
     ]
    }
   ],
   "source": [
    "predictions.show()"
   ]
  },
  {
   "cell_type": "code",
   "execution_count": 24,
   "metadata": {},
   "outputs": [
    {
     "name": "stdout",
     "output_type": "stream",
     "text": [
      "Root-mean-square error = 4.449856582309332\n"
     ]
    }
   ],
   "source": [
    "evaluator = RegressionEvaluator(metricName=\"rmse\", labelCol=\"score\",predictionCol=\"prediction\") \n",
    "rmse = evaluator.evaluate(predictions) \n",
    "print(\"Root-mean-square error = \" + str(rmse))"
   ]
  },
  {
   "cell_type": "code",
   "execution_count": null,
   "metadata": {},
   "outputs": [],
   "source": []
  }
 ],
 "metadata": {
  "kernelspec": {
   "display_name": "Python 3",
   "language": "python",
   "name": "python3"
  },
  "language_info": {
   "codemirror_mode": {
    "name": "ipython",
    "version": 3
   },
   "file_extension": ".py",
   "mimetype": "text/x-python",
   "name": "python",
   "nbconvert_exporter": "python",
   "pygments_lexer": "ipython3",
   "version": "3.7.0"
  }
 },
 "nbformat": 4,
 "nbformat_minor": 2
}
