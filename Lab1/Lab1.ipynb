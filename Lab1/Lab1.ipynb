{
 "cells": [
  {
   "cell_type": "code",
   "execution_count": 8,
   "metadata": {},
   "outputs": [],
   "source": [
    "import pyspark\n",
    "from pyspark.sql import SparkSession\n",
    "import random"
   ]
  },
  {
   "cell_type": "code",
   "execution_count": 9,
   "metadata": {},
   "outputs": [
    {
     "name": "stdout",
     "output_type": "stream",
     "text": [
      "+-------+\n",
      "|numbers|\n",
      "+-------+\n",
      "|    900|\n",
      "|   1089|\n",
      "|   5476|\n",
      "|   1600|\n",
      "|    289|\n",
      "|   5184|\n",
      "|   2916|\n",
      "|   2025|\n",
      "|   8464|\n",
      "|     64|\n",
      "+-------+\n",
      "\n"
     ]
    },
    {
     "data": {
      "text/plain": [
       "[30, 33, 74, 40, 17, 72, 54, 45, 92, 8]"
      ]
     },
     "execution_count": 9,
     "metadata": {},
     "output_type": "execute_result"
    }
   ],
   "source": [
    "sp = SparkSession.builder.config('spark.driver.memory', '4g').appName('square_integers').getOrCreate()\n",
    "nums = random.sample(range(0, 100), 10)\n",
    "df_squared = sp.createDataFrame([(n**2,) for n in nums], ['numbers'])\n",
    "df_squared.show()\n",
    "nums"
   ]
  },
  {
   "cell_type": "code",
   "execution_count": 20,
   "metadata": {},
   "outputs": [
    {
     "data": {
      "text/plain": [
       "8464"
      ]
     },
     "execution_count": 20,
     "metadata": {},
     "output_type": "execute_result"
    }
   ],
   "source": [
    "from pyspark.sql.functions import max, avg\n",
    "max_num = df_squared.agg(max('numbers')).collect()[0][0]\n",
    "max_num"
   ]
  },
  {
   "cell_type": "code",
   "execution_count": 17,
   "metadata": {},
   "outputs": [
    {
     "data": {
      "text/plain": [
       "2800.7"
      ]
     },
     "execution_count": 17,
     "metadata": {},
     "output_type": "execute_result"
    }
   ],
   "source": [
    "meany = df_squared.agg(avg('numbers')).collect()[0][0]\n",
    "meany"
   ]
  },
  {
   "cell_type": "code",
   "execution_count": 21,
   "metadata": {},
   "outputs": [
    {
     "name": "stdout",
     "output_type": "stream",
     "text": [
      "+-------+------+-----+\n",
      "|Numbers| Color|Price|\n",
      "+-------+------+-----+\n",
      "|      1|   Red|  500|\n",
      "|      2|Yellow|  500|\n",
      "|      3|  Blue| 1200|\n",
      "|      4| Green|  600|\n",
      "|      5|  Aqua| 1400|\n",
      "|      6| White|  200|\n",
      "+-------+------+-----+\n",
      "\n",
      "root\n",
      " |-- Numbers: integer (nullable = true)\n",
      " |-- Color: string (nullable = true)\n",
      " |-- Price: integer (nullable = true)\n",
      "\n"
     ]
    }
   ],
   "source": [
    "\n",
    "df = sp.read.csv('colors.csv', header = True, inferSchema = True)\n",
    "df.show()\n",
    "df.printSchema()"
   ]
  },
  {
   "cell_type": "code",
   "execution_count": 23,
   "metadata": {},
   "outputs": [
    {
     "name": "stdout",
     "output_type": "stream",
     "text": [
      "+-------+-----------------+\n",
      "|summary|            price|\n",
      "+-------+-----------------+\n",
      "|  count|                6|\n",
      "|    min|              200|\n",
      "|    max|             1400|\n",
      "|   mean|733.3333333333334|\n",
      "| stddev|463.3213427705081|\n",
      "+-------+-----------------+\n",
      "\n"
     ]
    }
   ],
   "source": [
    "price = df.select(\"price\").summary(\"count\", \"min\", \"max\", \"mean\", \"stddev\")\n",
    "price.show()"
   ]
  },
  {
   "cell_type": "code",
   "execution_count": 36,
   "metadata": {},
   "outputs": [
    {
     "name": "stdout",
     "output_type": "stream",
     "text": [
      "{'': 81, 'the': 59, 'was': 41, 'to': 39, 'and': 33, 'he': 28, 'that': 28, 'a': 28, 'of': 20, 'her': 20}\n"
     ]
    }
   ],
   "source": [
    "from pyspark.sql import functions as F\n",
    "\n",
    "split_on_spaces = F.split('value', ' ')\n",
    "df = (\n",
    "    sp.read.option(\"recursiveFileLookup\",\"true\").text('TextDocs/')\n",
    "    .withColumn('value', F.explode(split_on_spaces))\n",
    "    .groupBy('value').count()\n",
    "    .orderBy(F.desc('count'))\n",
    ")\n",
    "top_val_dict = {r['value']:r['count'] for r in df.head(10)}\n",
    "\n",
    "print(top_val_dict)"
   ]
  },
  {
   "cell_type": "code",
   "execution_count": null,
   "metadata": {},
   "outputs": [],
   "source": []
  }
 ],
 "metadata": {
  "kernelspec": {
   "display_name": "Python 3",
   "language": "python",
   "name": "python3"
  },
  "language_info": {
   "codemirror_mode": {
    "name": "ipython",
    "version": 3
   },
   "file_extension": ".py",
   "mimetype": "text/x-python",
   "name": "python",
   "nbconvert_exporter": "python",
   "pygments_lexer": "ipython3",
   "version": "3.7.0"
  }
 },
 "nbformat": 4,
 "nbformat_minor": 2
}
